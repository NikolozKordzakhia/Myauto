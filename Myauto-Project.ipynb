{
 "cells": [
  {
   "cell_type": "code",
   "execution_count": 109,
   "id": "c966ff75b37c59b6",
   "metadata": {
    "ExecuteTime": {
     "end_time": "2024-05-09T17:50:17.835432Z",
     "start_time": "2024-05-09T17:50:17.828006Z"
    },
    "jupyter": {
     "outputs_hidden": false
    },
    "metadata": {}
   },
   "outputs": [],
   "source": [
    "from selenium import webdriver\n",
    "from selenium.webdriver.common.by import By\n",
    "from selenium.webdriver.common.action_chains import ActionChains\n",
    "from selenium.webdriver.support.ui import WebDriverWait\n",
    "from selenium.webdriver.support import expected_conditions as EC\n",
    "from bs4 import BeautifulSoup\n",
    "from time import sleep \n",
    "import requests\n",
    "import pandas as pd\n",
    "import numpy as np"
   ]
  },
  {
   "cell_type": "code",
   "execution_count": 111,
   "id": "727bccf7-da8d-4b44-8e24-b16d608c363d",
   "metadata": {
    "ExecuteTime": {
     "end_time": "2024-05-09T17:50:20.993368Z",
     "start_time": "2024-05-09T17:50:20.960805Z"
    },
    "jupyter": {
     "outputs_hidden": false
    },
    "metadata": {}
   },
   "outputs": [],
   "source": [
    "def get_links(url, manufacturer_name, year, login = 'login', password = 'password'):\n",
    "    driver = webdriver.Chrome()\n",
    "    driver.get(url=url)\n",
    "    driver.maximize_window()\n",
    "    wait = WebDriverWait(driver, 10)  \n",
    "    sleep(2)\n",
    "    if login != 'login' and password != 'password':\n",
    "        login_button = wait.until(EC.element_to_be_clickable((By.XPATH, '//*[@id=\"app\"]/div[1]/header/div[2]/div/div/div[2]/div[2]')))\n",
    "        if \"შესვლა\" in login_button.text:\n",
    "            login_button.click()\n",
    "\n",
    "            email_input = wait.until(EC.element_to_be_clickable((By.XPATH, '/html/body/div[1]/div/div/div[1]/div[2]/div/div/div/div/form/div[1]/div[1]/div/input')))\n",
    "            email_input.send_keys(login) # \"kordzaxianika@gmail.com\"\n",
    "\n",
    "            password_input = wait.until(EC.element_to_be_clickable((By.XPATH, '/html/body/div[1]/div/div/div[1]/div[2]/div/div/div/div/form/div[1]/div[2]/div/input')))\n",
    "            password_input.send_keys(password) # \"Seleniumtest01\"\n",
    "\n",
    "            login_button = driver.find_element(By.XPATH, '/html/body/div[1]/div/div/div[1]/div[2]/div/div/div/div/form/div[3]/button')\n",
    "            login_button.click()\n",
    "\n",
    "    manufacturer_button = wait.until(EC.element_to_be_clickable((By.XPATH, '/html/body/div[2]/div[1]/div[3]/div/div[1]/div[2]/div[2]/div/div[1]')))\n",
    "    manufacturer_button.click()\n",
    "    sleep(5)\n",
    "\n",
    "    models = driver.find_elements(By.XPATH, '//label[@class=\"flex relative cursor-pointer px-[24px] py-[10px] mb-0 \"]//span[@class=\"flex text-[14px] md:text-[12px] xl:text-[14px] \"]')\n",
    "    for model in models:\n",
    "        if model.text == manufacturer_name:\n",
    "            ActionChains(driver).move_to_element(model).perform()\n",
    "            sleep(1) \n",
    "            model.click()\n",
    "            break\n",
    "    buttons = driver.find_elements(By.TAG_NAME, \"button\")\n",
    "    for button in buttons:\n",
    "        if \"ძებნა\" in button.text:\n",
    "            actions = ActionChains(driver)\n",
    "            actions.move_to_element(button).perform()\n",
    "            button.click()\n",
    "            break\n",
    "    sleep(5)\n",
    "\n",
    "    list_link = []\n",
    "    n = 1\n",
    "    next_button = True\n",
    "    while next_button:\n",
    "        if n > 1:\n",
    "            nxt_buttons = driver.find_elements(By.TAG_NAME, \"li\")\n",
    "            found = False\n",
    "            for button in nxt_buttons:\n",
    "                if str(n) == button.text:\n",
    "                    actions = ActionChains(driver)\n",
    "                    actions.move_to_element(button).perform()\n",
    "                    button.click()\n",
    "                    found = True\n",
    "                    break\n",
    "                \n",
    "            if not found:\n",
    "                next_button = False\n",
    "            sleep(3)\n",
    "        page_source = driver.page_source\n",
    "        soup = BeautifulSoup(page_source, 'html.parser')\n",
    "        links = soup.find_all('a', attrs={'class': 'w-full md:w-auto'})\n",
    "        for link in links:\n",
    "            href = link.get('href')\n",
    "            list_link.append('https://www.myauto.ge' + href)\n",
    "        n += 1\n",
    "    sleep(1) \n",
    "    if driver:\n",
    "        driver.quit()\n",
    "    print(list_link)"
   ]
  },
  {
   "cell_type": "code",
   "execution_count": 113,
   "id": "335f3af8",
   "metadata": {
    "ExecuteTime": {
     "end_time": "2024-05-09T17:51:38.303985Z",
     "start_time": "2024-05-09T17:50:21.990296Z"
    }
   },
   "outputs": [
    {
     "name": "stdout",
     "output_type": "stream",
     "text": [
      "['https://www.myauto.ge/ka/pr/104067871/iyideba-manqanebi-sedani-acura-ilx-2018-benzini-gzashi-sak.-sken?offerType=vipPlus', 'https://www.myauto.ge/ka/pr/80520573/iyideba-manqanebi-hechbeqi-acura-integra-2022-benzini-rustavis-avtobazroba?offerType=vipUsual', 'https://www.myauto.ge/ka/pr/104172007/iyideba-manqanebi-jipi-acura-mdx-2001-bunebrivi-gazi-tbilisi?offerType=basic', 'https://www.myauto.ge/ka/pr/104171867/iyideba-manqanebi-sedani-acura-cl-2019-benzini-ashsh?offerType=basic', 'https://www.myauto.ge/ka/pr/104171563/iyideba-manqanebi-sedani-acura-csx-2018-benzini-ashsh?offerType=basic', 'https://www.myauto.ge/ka/pr/104169903/iyideba-manqanebi-sedani-acura-csx-2018-benzini-ashsh?offerType=basic', 'https://www.myauto.ge/ka/pr/104169859/iyideba-manqanebi-sedani-acura-cl-2018-benzini-ashsh?offerType=basic', 'https://www.myauto.ge/ka/pr/104169499/iyideba-manqanebi-sedani-acura-cl-2016-benzini-ashsh?offerType=basic', 'https://www.myauto.ge/ka/pr/104169439/iyideba-manqanebi-sedani-acura-csx-2015-benzini-ashsh?offerType=basic', 'https://www.myauto.ge/ka/pr/104169359/iyideba-manqanebi-sedani-acura-csx-2018-benzini-ashsh?offerType=basic', 'https://www.myauto.ge/ka/pr/104168571/iyideba-manqanebi-sedani-acura-cl-2018-benzini-ashsh?offerType=basic', 'https://www.myauto.ge/ka/pr/104168451/iyideba-manqanebi-sedani-acura-cl-2022-benzini-ashsh?offerType=basic', 'https://www.myauto.ge/ka/pr/104168443/iyideba-manqanebi-sedani-acura-csx-2022-benzini-ashsh?offerType=basic', 'https://www.myauto.ge/ka/pr/104167743/iyideba-manqanebi-sedani-acura-csx-2018-benzini-ashsh?offerType=basic', 'https://www.myauto.ge/ka/pr/104165323/iyideba-manqanebi-sedani-acura-cl-2017-benzini-ashsh?offerType=basic', 'https://www.myauto.ge/ka/pr/104163443/iyideba-manqanebi-sedani-acura-csx-2016-benzini-ashsh?offerType=basic', 'https://www.myauto.ge/ka/pr/104162891/iyideba-manqanebi-sedani-acura-csx-2018-benzini-ashsh?offerType=basic', 'https://www.myauto.ge/ka/pr/104162799/iyideba-manqanebi-sedani-acura-cl-2022-benzini-ashsh?offerType=basic', 'https://www.myauto.ge/ka/pr/104154015/iyideba-manqanebi-sedani-acura-csx-2016-benzini-ashsh?offerType=basic', 'https://www.myauto.ge/ka/pr/104153023/iyideba-manqanebi-sedani-acura-el-2016-benzini-ashsh?offerType=basic', 'https://www.myauto.ge/ka/pr/104152839/iyideba-manqanebi-sedani-acura-cl-2015-benzini-ashsh?offerType=basic', 'https://www.myauto.ge/ka/pr/104152059/iyideba-manqanebi-sedani-acura-csx-2016-benzini-ashsh?offerType=basic', 'https://www.myauto.ge/ka/pr/104151619/iyideba-manqanebi-sedani-acura-el-2014-benzini-ashsh?offerType=basic', 'https://www.myauto.ge/ka/pr/104149775/iyideba-manqanebi-sedani-acura-csx-2015-benzini-ashsh?offerType=basic', 'https://www.myauto.ge/ka/pr/104149715/iyideba-manqanebi-sedani-acura-csx-2016-benzini-ashsh?offerType=basic', 'https://www.myauto.ge/ka/pr/104149631/iyideba-manqanebi-sedani-acura-csx-2017-benzini-ashsh?offerType=basic', 'https://www.myauto.ge/ka/pr/104149523/iyideba-manqanebi-sedani-acura-cl-2015-benzini-ashsh?offerType=basic', 'https://www.myauto.ge/ka/pr/104148515/iyideba-manqanebi-sedani-acura-ilx-2016-benzini-ashsh?offerType=basic', 'https://www.myauto.ge/ka/pr/104147879/iyideba-manqanebi-sedani-acura-cl-2022-benzini-ashsh?offerType=basic', 'https://www.myauto.ge/ka/pr/104145739/iyideba-manqanebi-sedani-acura-tl-2014-benzini-ashsh?offerType=basic', 'https://www.myauto.ge/ka/pr/104143371/iyideba-manqanebi-sedani-acura-csx-2016-benzini-ashsh?offerType=basic', 'https://www.myauto.ge/ka/pr/104143199/iyideba-manqanebi-sedani-acura-ilx-2020-benzini-ashsh?offerType=basic', 'https://www.myauto.ge/ka/pr/104143147/iyideba-manqanebi-sedani-acura-csx-2017-benzini-ashsh?offerType=basic', 'https://www.myauto.ge/ka/pr/104143083/iyideba-manqanebi-sedani-acura-csx-2015-benzini-ashsh?offerType=basic', 'https://www.myauto.ge/ka/pr/104140887/iyideba-manqanebi-sedani-acura-csx-2014-benzini-ashsh?offerType=basic', 'https://www.myauto.ge/ka/pr/104139191/iyideba-manqanebi-sedani-acura-cl-2017-benzini-ashsh?offerType=basic', 'https://www.myauto.ge/ka/pr/104138755/iyideba-manqanebi-sedani-acura-csx-2021-benzini-ashsh?offerType=basic', 'https://www.myauto.ge/ka/pr/104138619/iyideba-manqanebi-sedani-acura-csx-2017-benzini-ashsh?offerType=basic', 'https://www.myauto.ge/ka/pr/104135555/iyideba-manqanebi-sedani-acura-csx-2016-benzini-ashsh?offerType=basic', 'https://www.myauto.ge/ka/pr/104135515/iyideba-manqanebi-sedani-acura-el-2014-benzini-ashsh?offerType=basic', 'https://www.myauto.ge/ka/pr/104133459/iyideba-manqanebi-sedani-acura-csx-2015-benzini-ashsh?offerType=basic', 'https://www.myauto.ge/ka/pr/104133007/iyideba-manqanebi-sedani-acura-csx-2015-benzini-ashsh?offerType=basic', 'https://www.myauto.ge/ka/pr/104131403/iyideba-manqanebi-sedani-acura-csx-2016-benzini-ashsh?offerType=basic', 'https://www.myauto.ge/ka/pr/104131147/iyideba-manqanebi-sedani-acura-mdx-2016-benzini-ashsh?offerType=basic', 'https://www.myauto.ge/ka/pr/104130963/iyideba-manqanebi-sedani-acura-cl-2020-benzini-ashsh?offerType=basic', 'https://www.myauto.ge/ka/pr/104130291/iyideba-manqanebi-sedani-acura-ilx-2016-benzini-ashsh?offerType=basic', 'https://www.myauto.ge/ka/pr/104126751/iyideba-manqanebi-sedani-acura-cl-2022-benzini-ashsh?offerType=basic', 'https://www.myauto.ge/ka/pr/104126339/iyideba-manqanebi-sedani-acura-csx-2016-benzini-ashsh?offerType=basic', 'https://www.myauto.ge/ka/pr/104125559/iyideba-manqanebi-sedani-acura-tl-2014-benzini-ashsh?offerType=basic', 'https://www.myauto.ge/ka/pr/104113623/iyideba-manqanebi-sedani-acura-rlx-2018-hibridi-tbilisi?offerType=basic', 'https://www.myauto.ge/ka/pr/102396367/iyideba-manqanebi-sedani-acura-tlx-2018-benzini-rustavis-avtobazroba?offerType=basic', 'https://www.myauto.ge/ka/pr/104105435/iyideba-manqanebi-jipi-acura-mdx-2001-benzini-rustavi?offerType=basic', 'https://www.myauto.ge/ka/pr/104104351/iyideba-manqanebi-sedani-acura-tlx-2017-benzini-ashsh?offerType=basic', 'https://www.myauto.ge/ka/pr/104103079/iyideba-manqanebi-jipi-acura-rdx-2016-benzini-ashsh?offerType=basic', 'https://www.myauto.ge/ka/pr/104099719/iyideba-manqanebi-sedani-acura-tlx-2022-benzini-ashsh?offerType=basic', 'https://www.myauto.ge/ka/pr/104099475/iyideba-manqanebi-sedani-acura-mdx-2023-benzini-ashsh?offerType=basic', 'https://www.myauto.ge/ka/pr/104069007/iyideba-manqanebi-jipi-acura-mdx-2001-bunebrivi-gazi-tbilisi?offerType=basic', 'https://www.myauto.ge/ka/pr/104065611/iyideba-manqanebi-sedani-acura-tlx-2023-benzini-ashsh?offerType=basic', 'https://www.myauto.ge/ka/pr/104062415/iyideba-manqanebi-sedani-acura-integra-2024-benzini-ashsh?offerType=basic', 'https://www.myauto.ge/ka/pr/104050903/iyideba-manqanebi-sedani-acura-rdx-2021-benzini-ashsh?offerType=basic', 'https://www.myauto.ge/ka/pr/104050799/iyideba-manqanebi-sedani-acura-tlx-2019-benzini-ashsh?offerType=basic', 'https://www.myauto.ge/ka/pr/104048759/iyideba-manqanebi-jipi-acura-rdx-2020-benzini-ashsh?offerType=basic', 'https://www.myauto.ge/ka/pr/104046743/iyideba-manqanebi-sedani-acura-rdx-2021-benzini-ashsh?offerType=basic', 'https://www.myauto.ge/ka/pr/104046627/iyideba-manqanebi-sedani-acura-tlx-2019-benzini-ashsh?offerType=basic', 'https://www.myauto.ge/ka/pr/104033927/iyideba-manqanebi-jipi-acura-mdx-2014-benzini-ashsh?offerType=basic', 'https://www.myauto.ge/ka/pr/104022527/iyideba-manqanebi-sedani-acura-tlx-2023-benzini-ashsh?offerType=basic', 'https://www.myauto.ge/ka/pr/104011887/iyideba-manqanebi-sedani-acura-mdx-2016-benzini-ashsh?offerType=basic', 'https://www.myauto.ge/ka/pr/104009919/iyideba-manqanebi-sedani-acura-rdx-2019-benzini-ashsh?offerType=basic', 'https://www.myauto.ge/ka/pr/103996979/iyideba-manqanebi-sedani-acura-ilx-2016-benzini-ashsh?offerType=basic', 'https://www.myauto.ge/ka/pr/102069475/iyideba-manqanebi-jipi-acura-mdx-2017-benzini-tbilisi?offerType=basic', 'https://www.myauto.ge/ka/pr/103904567/iyideba-manqanebi-sedani-acura-tlx-2021-benzini-ashsh?offerType=basic', 'https://www.myauto.ge/ka/pr/100889295/iyideba-manqanebi-jipi-acura-mdx-2000-benzini-kutaisi?offerType=basic', 'https://www.myauto.ge/ka/pr/103902703/iyideba-manqanebi-sedani-acura-tsx-2013-benzini-tbilisi?offerType=basic', 'https://www.myauto.ge/ka/pr/98104942/iyideba-manqanebi-jipi-acura-mdx-2013-benzini-tbilisi?offerType=basic', 'https://www.myauto.ge/ka/pr/103812767/iyideba-manqanebi-sedani-acura-ilx-2020-benzini-ashsh?offerType=basic', 'https://www.myauto.ge/ka/pr/95403078/iyideba-manqanebi-jipi-acura-rdx-2017-benzini-tbilisi?offerType=basic', 'https://www.myauto.ge/ka/pr/103724247/iyideba-manqanebi-sedani-acura-ilx-2021-benzini-ashsh?offerType=basic', 'https://www.myauto.ge/ka/pr/103707619/iyideba-manqanebi-sedani-acura-tlx-2019-benzini-ashsh?offerType=basic', 'https://www.myauto.ge/ka/pr/103648427/iyideba-manqanebi-jipi-acura-mdx-2014-benzini-ashsh?offerType=basic', 'https://www.myauto.ge/ka/pr/103648355/iyideba-manqanebi-jipi-acura-mdx-2019-benzini-ashsh?offerType=basic', 'https://www.myauto.ge/ka/pr/103648283/iyideba-manqanebi-jipi-acura-mdx-2023-benzini-ashsh?offerType=basic', 'https://www.myauto.ge/ka/pr/103648215/iyideba-manqanebi-jipi-acura-mdx-2017-benzini-ashsh?offerType=basic', 'https://www.myauto.ge/ka/pr/103648147/iyideba-manqanebi-jipi-acura-mdx-2014-benzini-ashsh?offerType=basic', 'https://www.myauto.ge/ka/pr/103648091/iyideba-manqanebi-jipi-acura-mdx-2014-benzini-ashsh?offerType=basic', 'https://www.myauto.ge/ka/pr/103648015/iyideba-manqanebi-jipi-acura-mdx-2014-benzini-ashsh?offerType=basic', 'https://www.myauto.ge/ka/pr/103647947/iyideba-manqanebi-jipi-acura-mdx-2018-hibridi-ashsh?offerType=basic', 'https://www.myauto.ge/ka/pr/103647895/iyideba-manqanebi-jipi-acura-mdx-2014-benzini-ashsh?offerType=basic', 'https://www.myauto.ge/ka/pr/103647835/iyideba-manqanebi-jipi-acura-mdx-2017-benzini-ashsh?offerType=basic', 'https://www.myauto.ge/ka/pr/103647775/iyideba-manqanebi-jipi-acura-mdx-2015-benzini-ashsh?offerType=basic', 'https://www.myauto.ge/ka/pr/103647699/iyideba-manqanebi-jipi-acura-mdx-2020-benzini-ashsh?offerType=basic', 'https://www.myauto.ge/ka/pr/103647655/iyideba-manqanebi-jipi-acura-mdx-2015-benzini-ashsh?offerType=basic', 'https://www.myauto.ge/ka/pr/103647591/iyideba-manqanebi-jipi-acura-mdx-2014-benzini-ashsh?offerType=basic', 'https://www.myauto.ge/ka/pr/103647531/iyideba-manqanebi-jipi-acura-mdx-2017-benzini-ashsh?offerType=basic', 'https://www.myauto.ge/ka/pr/103647475/iyideba-manqanebi-jipi-acura-mdx-2016-benzini-ashsh?offerType=basic', 'https://www.myauto.ge/ka/pr/103647407/iyideba-manqanebi-jipi-acura-mdx-2016-benzini-ashsh?offerType=basic', 'https://www.myauto.ge/ka/pr/103647355/iyideba-manqanebi-jipi-acura-mdx-2014-benzini-ashsh?offerType=basic', 'https://www.myauto.ge/ka/pr/103647303/iyideba-manqanebi-jipi-acura-mdx-2014-benzini-ashsh?offerType=basic', 'https://www.myauto.ge/ka/pr/103647243/iyideba-manqanebi-jipi-acura-mdx-2018-benzini-ashsh?offerType=basic', 'https://www.myauto.ge/ka/pr/103647183/iyideba-manqanebi-jipi-acura-mdx-2015-benzini-ashsh?offerType=basic', 'https://www.myauto.ge/ka/pr/103647115/iyideba-manqanebi-jipi-acura-mdx-2016-benzini-ashsh?offerType=basic', 'https://www.myauto.ge/ka/pr/103647051/iyideba-manqanebi-jipi-acura-mdx-2020-benzini-ashsh?offerType=basic', 'https://www.myauto.ge/ka/pr/103646991/iyideba-manqanebi-jipi-acura-mdx-2014-benzini-ashsh?offerType=basic', 'https://www.myauto.ge/ka/pr/103646943/iyideba-manqanebi-jipi-acura-mdx-2020-benzini-ashsh?offerType=basic', 'https://www.myauto.ge/ka/pr/103646879/iyideba-manqanebi-jipi-acura-mdx-2016-benzini-ashsh?offerType=basic', 'https://www.myauto.ge/ka/pr/103646815/iyideba-manqanebi-jipi-acura-mdx-2022-benzini-ashsh?offerType=basic', 'https://www.myauto.ge/ka/pr/103646759/iyideba-manqanebi-jipi-acura-mdx-2015-benzini-ashsh?offerType=basic', 'https://www.myauto.ge/ka/pr/103646703/iyideba-manqanebi-jipi-acura-mdx-2023-benzini-ashsh?offerType=basic', 'https://www.myauto.ge/ka/pr/103646655/iyideba-manqanebi-jipi-acura-mdx-2020-benzini-ashsh?offerType=basic', 'https://www.myauto.ge/ka/pr/103646599/iyideba-manqanebi-jipi-acura-mdx-2024-benzini-ashsh?offerType=basic', 'https://www.myauto.ge/ka/pr/103646543/iyideba-manqanebi-jipi-acura-mdx-2016-benzini-ashsh?offerType=basic', 'https://www.myauto.ge/ka/pr/103646491/iyideba-manqanebi-jipi-acura-mdx-2014-benzini-ashsh?offerType=basic', 'https://www.myauto.ge/ka/pr/103646435/iyideba-manqanebi-jipi-acura-mdx-2022-benzini-ashsh?offerType=basic', 'https://www.myauto.ge/ka/pr/103646379/iyideba-manqanebi-jipi-acura-mdx-2014-benzini-ashsh?offerType=basic', 'https://www.myauto.ge/ka/pr/103646319/iyideba-manqanebi-jipi-acura-mdx-2016-benzini-ashsh?offerType=basic', 'https://www.myauto.ge/ka/pr/103646275/iyideba-manqanebi-jipi-acura-mdx-2014-benzini-ashsh?offerType=basic', 'https://www.myauto.ge/ka/pr/103646211/iyideba-manqanebi-jipi-acura-mdx-2014-benzini-ashsh?offerType=basic', 'https://www.myauto.ge/ka/pr/103646151/iyideba-manqanebi-jipi-acura-mdx-2020-benzini-ashsh?offerType=basic', 'https://www.myauto.ge/ka/pr/103646083/iyideba-manqanebi-jipi-acura-mdx-2020-benzini-ashsh?offerType=basic', 'https://www.myauto.ge/ka/pr/103646019/iyideba-manqanebi-jipi-acura-mdx-2015-benzini-ashsh?offerType=basic', 'https://www.myauto.ge/ka/pr/103645959/iyideba-manqanebi-jipi-acura-mdx-2018-benzini-ashsh?offerType=basic', 'https://www.myauto.ge/ka/pr/103645891/iyideba-manqanebi-jipi-acura-mdx-2018-benzini-ashsh?offerType=basic', 'https://www.myauto.ge/ka/pr/103645819/iyideba-manqanebi-jipi-acura-mdx-2024-benzini-ashsh?offerType=basic', 'https://www.myauto.ge/ka/pr/103645759/iyideba-manqanebi-jipi-acura-mdx-2020-benzini-ashsh?offerType=basic', 'https://www.myauto.ge/ka/pr/103645703/iyideba-manqanebi-jipi-acura-mdx-2017-benzini-ashsh?offerType=basic', 'https://www.myauto.ge/ka/pr/103645635/iyideba-manqanebi-jipi-acura-mdx-2022-benzini-ashsh?offerType=basic', 'https://www.myauto.ge/ka/pr/103645567/iyideba-manqanebi-jipi-acura-mdx-2017-benzini-ashsh?offerType=basic', 'https://www.myauto.ge/ka/pr/103645495/iyideba-manqanebi-jipi-acura-mdx-2014-benzini-ashsh?offerType=basic', 'https://www.myauto.ge/ka/pr/103645411/iyideba-manqanebi-jipi-acura-mdx-2018-benzini-ashsh?offerType=basic', 'https://www.myauto.ge/ka/pr/103645347/iyideba-manqanebi-jipi-acura-mdx-2016-benzini-ashsh?offerType=basic', 'https://www.myauto.ge/ka/pr/103645295/iyideba-manqanebi-jipi-acura-mdx-2022-benzini-ashsh?offerType=basic', 'https://www.myauto.ge/ka/pr/103645255/iyideba-manqanebi-jipi-acura-mdx-2024-benzini-ashsh?offerType=basic', 'https://www.myauto.ge/ka/pr/103645195/iyideba-manqanebi-jipi-acura-mdx-2020-benzini-ashsh?offerType=basic', 'https://www.myauto.ge/ka/pr/103645151/iyideba-manqanebi-jipi-acura-mdx-2017-benzini-ashsh?offerType=basic', 'https://www.myauto.ge/ka/pr/103645083/iyideba-manqanebi-jipi-acura-mdx-2022-benzini-ashsh?offerType=basic', 'https://www.myauto.ge/ka/pr/103645027/iyideba-manqanebi-jipi-acura-mdx-2017-benzini-ashsh?offerType=basic', 'https://www.myauto.ge/ka/pr/103644955/iyideba-manqanebi-jipi-acura-mdx-2014-benzini-ashsh?offerType=basic', 'https://www.myauto.ge/ka/pr/103644899/iyideba-manqanebi-jipi-acura-mdx-2018-benzini-ashsh?offerType=basic', 'https://www.myauto.ge/ka/pr/103644851/iyideba-manqanebi-jipi-acura-mdx-2016-benzini-ashsh?offerType=basic', 'https://www.myauto.ge/ka/pr/103644779/iyideba-manqanebi-jipi-acura-mdx-2022-benzini-ashsh?offerType=basic', 'https://www.myauto.ge/ka/pr/103573639/iyideba-manqanebi-sedani-acura-tl-2002-bunebrivi-gazi-rustavi?offerType=basic', 'https://www.myauto.ge/ka/pr/103382203/iyideba-manqanebi-jipi-acura-mdx-2020-benzini-ashsh?offerType=basic', 'https://www.myauto.ge/ka/pr/103382159/iyideba-manqanebi-jipi-acura-mdx-2016-benzini-ashsh?offerType=basic', 'https://www.myauto.ge/ka/pr/103382111/iyideba-manqanebi-jipi-acura-mdx-2016-benzini-ashsh?offerType=basic', 'https://www.myauto.ge/ka/pr/103382059/iyideba-manqanebi-jipi-acura-mdx-2016-benzini-ashsh?offerType=basic', 'https://www.myauto.ge/ka/pr/103381987/iyideba-manqanebi-jipi-acura-mdx-2018-benzini-ashsh?offerType=basic', 'https://www.myauto.ge/ka/pr/103381911/iyideba-manqanebi-jipi-acura-mdx-2018-benzini-ashsh?offerType=basic', 'https://www.myauto.ge/ka/pr/103381871/iyideba-manqanebi-jipi-acura-mdx-2014-benzini-ashsh?offerType=basic', 'https://www.myauto.ge/ka/pr/103381827/iyideba-manqanebi-jipi-acura-mdx-2015-benzini-ashsh?offerType=basic', 'https://www.myauto.ge/ka/pr/103381771/iyideba-manqanebi-jipi-acura-mdx-2020-benzini-ashsh?offerType=basic', 'https://www.myauto.ge/ka/pr/103381727/iyideba-manqanebi-jipi-acura-mdx-2022-benzini-ashsh?offerType=basic', 'https://www.myauto.ge/ka/pr/103381679/iyideba-manqanebi-jipi-acura-mdx-2018-benzini-ashsh?offerType=basic', 'https://www.myauto.ge/ka/pr/103381639/iyideba-manqanebi-jipi-acura-mdx-2020-benzini-ashsh?offerType=basic', 'https://www.myauto.ge/ka/pr/103381591/iyideba-manqanebi-jipi-acura-mdx-2023-benzini-ashsh?offerType=basic', 'https://www.myauto.ge/ka/pr/103381555/iyideba-manqanebi-jipi-acura-mdx-2018-benzini-ashsh?offerType=basic', 'https://www.myauto.ge/ka/pr/103381519/iyideba-manqanebi-jipi-acura-mdx-2019-benzini-ashsh?offerType=basic', 'https://www.myauto.ge/ka/pr/103381463/iyideba-manqanebi-jipi-acura-mdx-2017-benzini-ashsh?offerType=basic', 'https://www.myauto.ge/ka/pr/103381415/iyideba-manqanebi-jipi-acura-mdx-2016-benzini-ashsh?offerType=basic', 'https://www.myauto.ge/ka/pr/103381375/iyideba-manqanebi-jipi-acura-mdx-2023-benzini-ashsh?offerType=basic', 'https://www.myauto.ge/ka/pr/103381319/iyideba-manqanebi-jipi-acura-mdx-2014-benzini-ashsh?offerType=basic', 'https://www.myauto.ge/ka/pr/103381283/iyideba-manqanebi-jipi-acura-mdx-2016-benzini-ashsh?offerType=basic', 'https://www.myauto.ge/ka/pr/103381235/iyideba-manqanebi-jipi-acura-mdx-2015-benzini-ashsh?offerType=basic', 'https://www.myauto.ge/ka/pr/103381183/iyideba-manqanebi-jipi-acura-mdx-2024-benzini-ashsh?offerType=basic', 'https://www.myauto.ge/ka/pr/103381151/iyideba-manqanebi-jipi-acura-mdx-2017-hibridi-ashsh?offerType=basic', 'https://www.myauto.ge/ka/pr/103381099/iyideba-manqanebi-jipi-acura-mdx-2022-benzini-ashsh?offerType=basic', 'https://www.myauto.ge/ka/pr/103381055/iyideba-manqanebi-jipi-acura-mdx-2019-benzini-ashsh?offerType=basic', 'https://www.myauto.ge/ka/pr/103381011/iyideba-manqanebi-jipi-acura-mdx-2022-benzini-ashsh?offerType=basic', 'https://www.myauto.ge/ka/pr/103380959/iyideba-manqanebi-jipi-acura-mdx-2018-benzini-ashsh?offerType=basic', 'https://www.myauto.ge/ka/pr/103380915/iyideba-manqanebi-jipi-acura-mdx-2023-benzini-ashsh?offerType=basic', 'https://www.myauto.ge/ka/pr/103380863/iyideba-manqanebi-jipi-acura-mdx-2014-benzini-ashsh?offerType=basic', 'https://www.myauto.ge/ka/pr/103380807/iyideba-manqanebi-jipi-acura-mdx-2016-benzini-ashsh?offerType=basic', 'https://www.myauto.ge/ka/pr/103380755/iyideba-manqanebi-jipi-acura-mdx-2015-benzini-ashsh?offerType=basic', 'https://www.myauto.ge/ka/pr/103380707/iyideba-manqanebi-jipi-acura-mdx-2024-benzini-ashsh?offerType=basic', 'https://www.myauto.ge/ka/pr/103380659/iyideba-manqanebi-jipi-acura-mdx-2017-hibridi-ashsh?offerType=basic', 'https://www.myauto.ge/ka/pr/103380611/iyideba-manqanebi-jipi-acura-mdx-2022-benzini-ashsh?offerType=basic', 'https://www.myauto.ge/ka/pr/103380563/iyideba-manqanebi-jipi-acura-mdx-2019-benzini-ashsh?offerType=basic', 'https://www.myauto.ge/ka/pr/103380515/iyideba-manqanebi-jipi-acura-mdx-2022-benzini-ashsh?offerType=basic', 'https://www.myauto.ge/ka/pr/103380467/iyideba-manqanebi-jipi-acura-mdx-2018-benzini-ashsh?offerType=basic', 'https://www.myauto.ge/ka/pr/103380435/iyideba-manqanebi-sedani-acura-tlx-2015-benzini-tbilisi?offerType=basic', 'https://www.myauto.ge/ka/pr/103376071/iyideba-manqanebi-sedani-acura-tl-2015-benzini-gzashi-sak.-sken?offerType=basic', 'https://www.myauto.ge/ka/pr/103354559/iyideba-manqanebi-jipi-acura-rdx-2020-benzini-rustavis-avtobazroba?offerType=basic', 'https://www.myauto.ge/ka/pr/103335699/iyideba-manqanebi-jipi-acura-mdx-2007-benzini-tbilisi?offerType=basic', 'https://www.myauto.ge/ka/pr/103186371/iyideba-manqanebi-sedani-acura-ilx-2017-benzini-tbilisi?offerType=basic', 'https://www.myauto.ge/ka/pr/103137619/iyideba-manqanebi-sedani-acura-tl-2012-tkhevadi-gazi-tbilisi?offerType=basic', 'https://www.myauto.ge/ka/pr/103134047/iyideba-manqanebi-jipi-acura-csx-2024-benzini-tbilisi?offerType=basic', 'https://www.myauto.ge/ka/pr/103133611/iyideba-manqanebi-jipi-acura-csx-2023-benzini-tbilisi?offerType=basic', 'https://www.myauto.ge/ka/pr/103133539/iyideba-manqanebi-jipi-acura-cl-2024-benzini-tbilisi?offerType=basic', 'https://www.myauto.ge/ka/pr/102768919/iyideba-manqanebi-sedani-acura-ilx-2012-hibridi-tbilisi?offerType=basic', 'https://www.myauto.ge/ka/pr/103335699/iyideba-manqanebi-jipi-acura-mdx-2007-benzini-tbilisi?offerType=basic', 'https://www.myauto.ge/ka/pr/103186371/iyideba-manqanebi-sedani-acura-ilx-2017-benzini-tbilisi?offerType=basic', 'https://www.myauto.ge/ka/pr/103137619/iyideba-manqanebi-sedani-acura-tl-2012-tkhevadi-gazi-tbilisi?offerType=basic', 'https://www.myauto.ge/ka/pr/103134047/iyideba-manqanebi-jipi-acura-csx-2024-benzini-tbilisi?offerType=basic', 'https://www.myauto.ge/ka/pr/103133611/iyideba-manqanebi-jipi-acura-csx-2023-benzini-tbilisi?offerType=basic', 'https://www.myauto.ge/ka/pr/103133539/iyideba-manqanebi-jipi-acura-cl-2024-benzini-tbilisi?offerType=basic', 'https://www.myauto.ge/ka/pr/102768919/iyideba-manqanebi-sedani-acura-ilx-2012-hibridi-tbilisi?offerType=basic']\n"
     ]
    }
   ],
   "source": [
    "get_links(url='https://www.myauto.ge/ka', manufacturer_name='Acura')"
   ]
  },
  {
   "cell_type": "code",
   "execution_count": null,
   "id": "9c53ebf1",
   "metadata": {},
   "outputs": [],
   "source": []
  },
  {
   "cell_type": "code",
   "execution_count": null,
   "id": "c3e9d88a",
   "metadata": {},
   "outputs": [],
   "source": []
  },
  {
   "cell_type": "code",
   "execution_count": null,
   "id": "3fe03159",
   "metadata": {},
   "outputs": [],
   "source": []
  }
 ],
 "metadata": {
  "kernelspec": {
   "display_name": "Python 3 (ipykernel)",
   "language": "python",
   "name": "python3"
  },
  "language_info": {
   "codemirror_mode": {
    "name": "ipython",
    "version": 3
   },
   "file_extension": ".py",
   "mimetype": "text/x-python",
   "name": "python",
   "nbconvert_exporter": "python",
   "pygments_lexer": "ipython3",
   "version": "3.11.7"
  },
  "widgets": {
   "application/vnd.jupyter.widget-state+json": {
    "state": {},
    "version_major": 2,
    "version_minor": 0
   }
  }
 },
 "nbformat": 4,
 "nbformat_minor": 5
}
