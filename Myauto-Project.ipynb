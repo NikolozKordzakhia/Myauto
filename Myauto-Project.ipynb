{
 "cells": [
  {
   "cell_type": "code",
   "execution_count": 1,
   "id": "c966ff75b37c59b6",
   "metadata": {
    "ExecuteTime": {
     "end_time": "2024-05-09T17:50:17.835432Z",
     "start_time": "2024-05-09T17:50:17.828006Z"
    },
    "jupyter": {
     "outputs_hidden": false
    },
    "metadata": {}
   },
   "outputs": [],
   "source": [
    "from selenium import webdriver\n",
    "from selenium.webdriver.common.by import By\n",
    "from selenium.webdriver.common.action_chains import ActionChains\n",
    "from selenium.webdriver.support.ui import WebDriverWait\n",
    "from selenium.webdriver.support import expected_conditions as EC\n",
    "from bs4 import BeautifulSoup\n",
    "from time import sleep \n",
    "import requests\n",
    "import pandas as pd\n",
    "import numpy as np"
   ]
  },
  {
   "cell_type": "code",
   "execution_count": 2,
   "id": "727bccf7-da8d-4b44-8e24-b16d608c363d",
   "metadata": {
    "ExecuteTime": {
     "end_time": "2024-05-09T17:50:20.993368Z",
     "start_time": "2024-05-09T17:50:20.960805Z"
    },
    "jupyter": {
     "outputs_hidden": false
    },
    "metadata": {}
   },
   "outputs": [],
   "source": [
    "def get_links(url, start_year = 'NG', end_year = 'NG', manufacturer_name = 'any', login = 'login', password = 'password', start_price = 'NG', end_price = 'NG', fuel_type = 'NG'):\n",
    "    driver = webdriver.Chrome()\n",
    "    driver.get(url=url)\n",
    "    driver.maximize_window()\n",
    "    wait = WebDriverWait(driver, 10)  \n",
    "    sleep(2)\n",
    "    cookie = wait.until(EC.element_to_be_clickable((By.XPATH, '/html/body/div[2]/div[3]/div/button')))\n",
    "    cookie.click()\n",
    "    if login != 'login' and password != 'password':\n",
    "        login_button = wait.until(EC.element_to_be_clickable((By.XPATH, '//*[@id=\"app\"]/div[1]/header/div[2]/div/div/div[2]/div[2]')))\n",
    "        if \"შესვლა\" in login_button.text:\n",
    "            login_button.click()\n",
    "\n",
    "            email_input = wait.until(EC.element_to_be_clickable((By.XPATH, '/html/body/div[1]/div/div/div[1]/div[2]/div/div/div/div/form/div[1]/div[1]/div/input')))\n",
    "            email_input.send_keys(login) # \"kordzaxianika@gmail.com\"\n",
    "\n",
    "            password_input = wait.until(EC.element_to_be_clickable((By.XPATH, '/html/body/div[1]/div/div/div[1]/div[2]/div/div/div/div/form/div[1]/div[2]/div/input')))\n",
    "            password_input.send_keys(password) # \"Seleniumtest01\"\n",
    "\n",
    "            login_button = driver.find_element(By.XPATH, '/html/body/div[1]/div/div/div[1]/div[2]/div/div/div/div/form/div[3]/button')\n",
    "            login_button.click()\n",
    "    \n",
    "    actions = ActionChains(driver) \n",
    "\n",
    "    if manufacturer_name != 'any':\n",
    "        manufacturer_button = wait.until(EC.element_to_be_clickable((By.XPATH, '/html/body/div[2]/div[1]/div[3]/div/div[1]/div[2]/div[2]/div/div[1]')))\n",
    "        manufacturer_button.click() \n",
    "        sleep(5)\n",
    "        models = driver.find_elements(By.XPATH, '//label[@class=\"flex relative cursor-pointer px-[24px] py-[10px] mb-0 \"]//span[@class=\"flex text-[14px] md:text-[12px] xl:text-[14px] \"]')\n",
    "        for model in models:                     \n",
    "            if model.text == manufacturer_name:\n",
    "                actions.move_to_element(model).perform()  \n",
    "                sleep(1) \n",
    "                model.click()\n",
    "                break\n",
    "\n",
    "    my_auto = driver.find_element(By.CLASS_NAME, 'd-flex.icon-h-32px.icon-h-sm-40px') \n",
    "    actions.move_to_element(my_auto).perform()  \n",
    "    my_auto.click()\n",
    "    sleep(10)\n",
    "    if start_year != 'NG' or end_year != 'NG':\n",
    "        years = wait.until(EC.element_to_be_clickable((By.XPATH, '/html/body/div[2]/div[1]/div[3]/div/div[1]/div[2]/div[2]/div/div[5]')))\n",
    "        ActionChains(driver).move_to_element(years).perform()\n",
    "        years.click()\n",
    "        sleep(3)\n",
    "        start_input = wait.until(EC.element_to_be_clickable((By.XPATH, '/html/body/div[2]/div[1]/div[3]/div/div[1]/div[2]/div[2]/div/div[5]/div[2]/div[1]/div[1]/div[1]/div/div/input')))\n",
    "        start_input.send_keys(str(start_year))\n",
    "        \n",
    "        end_input = wait.until(EC.element_to_be_clickable((By.XPATH, '/html/body/div[2]/div[1]/div[3]/div/div[1]/div[2]/div[2]/div/div[5]/div[2]/div[1]/div[1]/div[2]/div/div/input')))\n",
    "        end_input.send_keys(str(end_year))\n",
    "    sleep(5)\n",
    "    if start_price != 'NG' or end_price != 'NG':\n",
    "        prices = wait.until(EC.element_to_be_clickable((By.XPATH, '/html/body/div[2]/div[1]/div[3]/div/div[1]/div[2]/div[2]/div/div[6]')))\n",
    "        ActionChains(driver).move_to_element(prices).perform()\n",
    "        prices.click()\n",
    "        sleep(3)\n",
    "        start_price_input = wait.until(EC.element_to_be_clickable((By.XPATH, '/html/body/div[2]/div[1]/div[3]/div/div[1]/div[2]/div[2]/div/div[6]/div[2]/div[1]/div[2]/div[1]/div/div/input')))\n",
    "        start_price_input.send_keys(str(start_price))\n",
    "        \n",
    "        end_price_input = wait.until(EC.element_to_be_clickable((By.XPATH, '/html/body/div[2]/div[1]/div[3]/div/div[1]/div[2]/div[2]/div/div[6]/div[2]/div[1]/div[2]/div[2]/div/div/input')))\n",
    "        end_price_input.send_keys(str(end_price))\n",
    "    \n",
    "    if fuel_type != 'NG':\n",
    "        fuels = wait.until(EC.element_to_be_clickable((By.XPATH, '/html/body/div[2]/div[1]/div[3]/div/div[1]/div[2]/div[2]/div/div[7]')))\n",
    "        ActionChains(driver).move_to_element(fuels).perform()\n",
    "        fuels.click()\n",
    "        sleep(2)\n",
    "        fuel_buttons = driver.find_elements(By.XPATH, \"//label[contains(@class, 'cursor-pointer')]\")\n",
    " \n",
    "        for button in fuel_buttons:\n",
    "            if fuel_type == button.text:\n",
    "                actions = ActionChains(driver)\n",
    "                actions.move_to_element(button).perform()\n",
    "                button.click()\n",
    "                break\n",
    "    buttons = driver.find_elements(By.TAG_NAME, \"button\") \n",
    "    for button in buttons:\n",
    "        if \"ძებნა\" in button.text:\n",
    "            actions = ActionChains(driver)\n",
    "            actions.move_to_element(button).perform()\n",
    "            button.click()\n",
    "            break\n",
    "    sleep(5)\n",
    "    list_link = []\n",
    "    n = 1\n",
    "    next_button = True\n",
    "    while next_button:\n",
    "        if n > 1:\n",
    "            nxt_buttons = driver.find_elements(By.TAG_NAME, \"li\")\n",
    "            found = False\n",
    "            for button in nxt_buttons:\n",
    "                if str(n) == button.text:\n",
    "                    actions = ActionChains(driver)\n",
    "                    actions.move_to_element(button).perform()\n",
    "                    button.click()\n",
    "                    found = True\n",
    "                    break\n",
    "            if not found:\n",
    "                next_button = False\n",
    "            sleep(3)\n",
    "        page_source = driver.page_source\n",
    "        soup = BeautifulSoup(page_source, 'html.parser')\n",
    "        links = soup.find_all('a', attrs={'class': 'w-full md:w-auto'})\n",
    "        for link in links:\n",
    "            href = link.get('href')\n",
    "            list_link.append('https://www.myauto.ge' + href)\n",
    "        n += 1\n",
    "    sleep(1) \n",
    "    if driver:\n",
    "        driver.quit()\n",
    "    print(list_link)"
   ]
  },
  {
   "cell_type": "code",
   "execution_count": 3,
   "id": "335f3af8",
   "metadata": {
    "ExecuteTime": {
     "end_time": "2024-05-09T17:51:38.303985Z",
     "start_time": "2024-05-09T17:50:21.990296Z"
    }
   },
   "outputs": [
    {
     "name": "stdout",
     "output_type": "stream",
     "text": [
      "['https://www.myauto.ge/ka/pr/104003119/iyideba-manqanebi-jipi-audi-e-tron-2021-elektro-tbilisi?offerType=superVip', 'https://www.myauto.ge/ka/pr/97329338/iyideba-manqanebi-jipi-audi-e-tron-2022-elektro-batumi?offerType=basic', 'https://www.myauto.ge/ka/pr/103574975/iyideba-manqanebi-jipi-audi-e-tron-2020-elektro-tbilisi?offerType=basic', 'https://www.myauto.ge/ka/pr/99138643/iyideba-manqanebi-jipi-audi-q4-e-tron-2022-elektro-tbilisi?offerType=basic', 'https://www.myauto.ge/ka/pr/103915499/iyideba-manqanebi-jipi-audi-q3-2015-elektro-ashsh?offerType=basic', 'https://www.myauto.ge/ka/pr/103915371/iyideba-manqanebi-jipi-audi-q3-2015-elektro-ashsh?offerType=basic', 'https://www.myauto.ge/ka/pr/103914239/iyideba-manqanebi-jipi-audi-q5-2015-elektro-ashsh?offerType=basic', 'https://www.myauto.ge/ka/pr/103914055/iyideba-manqanebi-jipi-audi-q7-2015-elektro-ashsh?offerType=basic', 'https://www.myauto.ge/ka/pr/103913963/iyideba-manqanebi-jipi-audi-q5-2017-elektro-ashsh?offerType=basic', 'https://www.myauto.ge/ka/pr/103913831/iyideba-manqanebi-jipi-audi-q5-2015-elektro-ashsh?offerType=basic', 'https://www.myauto.ge/ka/pr/103913711/iyideba-manqanebi-jipi-audi-q5-2017-elektro-ashsh?offerType=basic', 'https://www.myauto.ge/ka/pr/103913671/iyideba-manqanebi-jipi-audi-q7-2015-elektro-ashsh?offerType=basic', 'https://www.myauto.ge/ka/pr/103913583/iyideba-manqanebi-jipi-audi-q5-2017-elektro-ashsh?offerType=basic', 'https://www.myauto.ge/ka/pr/103913439/iyideba-manqanebi-jipi-audi-q5-2017-elektro-ashsh?offerType=basic', 'https://www.myauto.ge/ka/pr/103913319/iyideba-manqanebi-jipi-audi-q5-2014-elektro-ashsh?offerType=basic', 'https://www.myauto.ge/ka/pr/103912775/iyideba-manqanebi-jipi-audi-q7-2015-elektro-ashsh?offerType=basic', 'https://www.myauto.ge/ka/pr/103912731/iyideba-manqanebi-jipi-audi-q5-2015-elektro-ashsh?offerType=basic', 'https://www.myauto.ge/ka/pr/103912291/iyideba-manqanebi-jipi-audi-q7-2015-elektro-ashsh?offerType=basic', 'https://www.myauto.ge/ka/pr/103912255/iyideba-manqanebi-jipi-audi-q5-2017-elektro-ashsh?offerType=basic', 'https://www.myauto.ge/ka/pr/103912015/iyideba-manqanebi-jipi-audi-q5-2016-elektro-ashsh?offerType=basic', 'https://www.myauto.ge/ka/pr/103911891/iyideba-manqanebi-jipi-audi-q5-2014-elektro-ashsh?offerType=basic', 'https://www.myauto.ge/ka/pr/103911559/iyideba-manqanebi-jipi-audi-q3-2015-elektro-ashsh?offerType=basic', 'https://www.myauto.ge/ka/pr/103910903/iyideba-manqanebi-jipi-audi-q3-2015-elektro-ashsh?offerType=basic', 'https://www.myauto.ge/ka/pr/103910531/iyideba-manqanebi-jipi-audi-q5-2017-elektro-ashsh?offerType=basic', 'https://www.myauto.ge/ka/pr/103910275/iyideba-manqanebi-jipi-audi-q5-2016-elektro-ashsh?offerType=basic', 'https://www.myauto.ge/ka/pr/103910191/iyideba-manqanebi-jipi-audi-q5-2015-elektro-ashsh?offerType=basic', 'https://www.myauto.ge/ka/pr/103910039/iyideba-manqanebi-jipi-audi-q5-2014-elektro-ashsh?offerType=basic', 'https://www.myauto.ge/ka/pr/103909775/iyideba-manqanebi-jipi-audi-q5-2015-elektro-ashsh?offerType=basic', 'https://www.myauto.ge/ka/pr/103909683/iyideba-manqanebi-jipi-audi-q5-2017-elektro-ashsh?offerType=basic', 'https://www.myauto.ge/ka/pr/103909431/iyideba-manqanebi-jipi-audi-q5-2015-elektro-ashsh?offerType=basic', 'https://www.myauto.ge/ka/pr/103909287/iyideba-manqanebi-jipi-audi-q7-2015-elektro-ashsh?offerType=basic', 'https://www.myauto.ge/ka/pr/103909271/iyideba-manqanebi-jipi-audi-q5-2015-elektro-ashsh?offerType=basic', 'https://www.myauto.ge/ka/pr/103909099/iyideba-manqanebi-jipi-audi-q5-2014-elektro-ashsh?offerType=basic', 'https://www.myauto.ge/ka/pr/103908779/iyideba-manqanebi-jipi-audi-q5-2017-elektro-ashsh?offerType=basic', 'https://www.myauto.ge/ka/pr/103908699/iyideba-manqanebi-jipi-audi-q5-2016-elektro-ashsh?offerType=basic', 'https://www.myauto.ge/ka/pr/103908475/iyideba-manqanebi-jipi-audi-q5-2014-elektro-ashsh?offerType=basic', 'https://www.myauto.ge/ka/pr/103908375/iyideba-manqanebi-jipi-audi-q5-2014-elektro-ashsh?offerType=basic', 'https://www.myauto.ge/ka/pr/103908303/iyideba-manqanebi-jipi-audi-q5-2014-elektro-ashsh?offerType=basic', 'https://www.myauto.ge/ka/pr/103908239/iyideba-manqanebi-jipi-audi-q5-2016-elektro-ashsh?offerType=basic', 'https://www.myauto.ge/ka/pr/103908159/iyideba-manqanebi-jipi-audi-q5-2015-elektro-ashsh?offerType=basic', 'https://www.myauto.ge/ka/pr/103907999/iyideba-manqanebi-jipi-audi-q5-2015-elektro-ashsh?offerType=basic', 'https://www.myauto.ge/ka/pr/103907915/iyideba-manqanebi-jipi-audi-q5-2016-elektro-ashsh?offerType=basic', 'https://www.myauto.ge/ka/pr/103907771/iyideba-manqanebi-jipi-audi-q5-2017-elektro-ashsh?offerType=basic', 'https://www.myauto.ge/ka/pr/103907259/iyideba-manqanebi-jipi-audi-q3-2015-elektro-ashsh?offerType=basic', 'https://www.myauto.ge/ka/pr/103907023/iyideba-manqanebi-jipi-audi-q5-2016-elektro-ashsh?offerType=basic', 'https://www.myauto.ge/ka/pr/103906799/iyideba-manqanebi-jipi-audi-q7-2014-elektro-ashsh?offerType=basic', 'https://www.myauto.ge/ka/pr/103906787/iyideba-manqanebi-jipi-audi-q3-2015-elektro-ashsh?offerType=basic', 'https://www.myauto.ge/ka/pr/103906555/iyideba-manqanebi-jipi-audi-q5-2015-elektro-ashsh?offerType=basic', 'https://www.myauto.ge/ka/pr/103906099/iyideba-manqanebi-jipi-audi-q3-2015-elektro-ashsh?offerType=basic', 'https://www.myauto.ge/ka/pr/103906095/iyideba-manqanebi-jipi-audi-q5-2017-elektro-ashsh?offerType=basic', 'https://www.myauto.ge/ka/pr/103905831/iyideba-manqanebi-jipi-audi-q5-2017-elektro-ashsh?offerType=basic', 'https://www.myauto.ge/ka/pr/103905775/iyideba-manqanebi-jipi-audi-q5-2016-elektro-ashsh?offerType=basic', 'https://www.myauto.ge/ka/pr/103905611/iyideba-manqanebi-jipi-audi-q5-2017-elektro-ashsh?offerType=basic', 'https://www.myauto.ge/ka/pr/103905567/iyideba-manqanebi-jipi-audi-q5-2015-elektro-ashsh?offerType=basic', 'https://www.myauto.ge/ka/pr/103905503/iyideba-manqanebi-jipi-audi-q5-2016-elektro-ashsh?offerType=basic', 'https://www.myauto.ge/ka/pr/103905395/iyideba-manqanebi-jipi-audi-q5-2014-elektro-ashsh?offerType=basic', 'https://www.myauto.ge/ka/pr/103730899/iyideba-manqanebi-jipi-audi-e-tron-2024-elektro-ashsh?offerType=basic', 'https://www.myauto.ge/ka/pr/103694687/iyideba-manqanebi-sedani-audi-e-tron-2020-elektro-ashsh?offerType=basic', 'https://www.myauto.ge/ka/pr/103652267/iyideba-manqanebi-sedani-audi-e-tron-2022-elektro-gzashi-sak.-sken?offerType=basic', 'https://www.myauto.ge/ka/pr/103368739/iyideba-manqanebi-sedani-audi-q8-2024-elektro-ashsh?offerType=basic', 'https://www.myauto.ge/ka/pr/99879104/iyideba-manqanebi-sedani-audi-e-tron-2022-elektro-tbilisi?offerType=basic', 'https://www.myauto.ge/ka/pr/99879104/iyideba-manqanebi-sedani-audi-e-tron-2022-elektro-tbilisi?offerType=basic']\n"
     ]
    }
   ],
   "source": "get_links(url='https://www.myauto.ge/ka', fuel_type='ელექტრო', start_year = 2000, manufacturer_name = 'Audi')"
  },
  {
   "cell_type": "code",
   "execution_count": null,
   "id": "3fe03159",
   "metadata": {},
   "outputs": [],
   "source": []
  },
  {
   "cell_type": "code",
   "execution_count": null,
   "id": "6b68c00a",
   "metadata": {},
   "outputs": [],
   "source": []
  }
 ],
 "metadata": {
  "kernelspec": {
   "display_name": "Python 3 (ipykernel)",
   "language": "python",
   "name": "python3"
  },
  "language_info": {
   "codemirror_mode": {
    "name": "ipython",
    "version": 3
   },
   "file_extension": ".py",
   "mimetype": "text/x-python",
   "name": "python",
   "nbconvert_exporter": "python",
   "pygments_lexer": "ipython3",
   "version": "3.11.7"
  },
  "widgets": {
   "application/vnd.jupyter.widget-state+json": {
    "state": {},
    "version_major": 2,
    "version_minor": 0
   }
  }
 },
 "nbformat": 4,
 "nbformat_minor": 5
}
