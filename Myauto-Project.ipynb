{
 "cells": [
  {
   "cell_type": "code",
   "execution_count": 1,
   "id": "c966ff75b37c59b6",
   "metadata": {
    "ExecuteTime": {
     "end_time": "2024-05-09T17:50:17.835432Z",
     "start_time": "2024-05-09T17:50:17.828006Z"
    },
    "jupyter": {
     "outputs_hidden": false
    },
    "metadata": {}
   },
   "outputs": [],
   "source": [
    "from selenium import webdriver\n",
    "from selenium.webdriver.common.by import By\n",
    "from selenium.webdriver.common.action_chains import ActionChains\n",
    "from selenium.webdriver.support.ui import WebDriverWait\n",
    "from selenium.webdriver.support import expected_conditions as EC\n",
    "from bs4 import BeautifulSoup\n",
    "from time import sleep \n",
    "import requests\n",
    "import pandas as pd\n",
    "import numpy as np"
   ]
  },
  {
   "cell_type": "code",
   "execution_count": 2,
   "id": "727bccf7-da8d-4b44-8e24-b16d608c363d",
   "metadata": {
    "ExecuteTime": {
     "end_time": "2024-05-09T17:50:20.993368Z",
     "start_time": "2024-05-09T17:50:20.960805Z"
    },
    "jupyter": {
     "outputs_hidden": false
    },
    "metadata": {}
   },
   "outputs": [],
   "source": [
    "def get_links(url, start_year = 'NG', end_year = 'NG', manufacturer_name = 'any', login = 'login', password = 'password'):\n",
    "    driver = webdriver.Chrome()\n",
    "    driver.get(url=url)\n",
    "    driver.maximize_window()\n",
    "    wait = WebDriverWait(driver, 10)  \n",
    "    sleep(2)\n",
    "    if login != 'login' and password != 'password':\n",
    "        login_button = wait.until(EC.element_to_be_clickable((By.XPATH, '//*[@id=\"app\"]/div[1]/header/div[2]/div/div/div[2]/div[2]')))\n",
    "        if \"შესვლა\" in login_button.text:\n",
    "            login_button.click()\n",
    "\n",
    "            email_input = wait.until(EC.element_to_be_clickable((By.XPATH, '/html/body/div[1]/div/div/div[1]/div[2]/div/div/div/div/form/div[1]/div[1]/div/input')))\n",
    "            email_input.send_keys(login) # \"kordzaxianika@gmail.com\"\n",
    "\n",
    "            password_input = wait.until(EC.element_to_be_clickable((By.XPATH, '/html/body/div[1]/div/div/div[1]/div[2]/div/div/div/div/form/div[1]/div[2]/div/input')))\n",
    "            password_input.send_keys(password) # \"Seleniumtest01\"\n",
    "\n",
    "            login_button = driver.find_element(By.XPATH, '/html/body/div[1]/div/div/div[1]/div[2]/div/div/div/div/form/div[3]/button')\n",
    "            login_button.click()\n",
    "    \n",
    "    actions = ActionChains(driver)  # Initialize actions here\n",
    "\n",
    "    if manufacturer_name != 'any':\n",
    "        manufacturer_button = wait.until(EC.element_to_be_clickable((By.XPATH, '/html/body/div[2]/div[1]/div[3]/div/div[1]/div[2]/div[2]/div/div[1]')))\n",
    "        manufacturer_button.click()\n",
    "        sleep(5)\n",
    "        models = driver.find_elements(By.XPATH, '//label[@class=\"flex relative cursor-pointer px-[24px] py-[10px] mb-0 \"]//span[@class=\"flex text-[14px] md:text-[12px] xl:text-[14px] \"]')\n",
    "        for model in models:\n",
    "            if model.text == manufacturer_name:\n",
    "                actions.move_to_element(model).perform()  \n",
    "                sleep(1) \n",
    "                model.click()\n",
    "                break\n",
    "\n",
    "    my_auto = driver.find_element(By.CLASS_NAME, 'd-flex.icon-h-32px.icon-h-sm-40px')  # Assuming there's only one element\n",
    "    actions.move_to_element(my_auto).perform()  \n",
    "    my_auto.click()\n",
    "    sleep(10)\n",
    "    if start_year != 'NG' or end_year != 'NG':\n",
    "        years = wait.until(EC.element_to_be_clickable((By.XPATH, '/html/body/div[2]/div[1]/div[3]/div/div[1]/div[2]/div[2]/div/div[5]')))\n",
    "        ActionChains(driver).move_to_element(years).perform()\n",
    "        years.click()\n",
    "        sleep(3)\n",
    "        start_input = wait.until(EC.element_to_be_clickable((By.XPATH, '/html/body/div[2]/div[1]/div[3]/div/div[1]/div[2]/div[2]/div/div[5]/div[2]/div[1]/div[1]/div[1]/div/div/input')))\n",
    "        start_input.send_keys(str(start_year))\n",
    "        \n",
    "        end_input = wait.until(EC.element_to_be_clickable((By.XPATH, '/html/body/div[2]/div[1]/div[3]/div/div[1]/div[2]/div[2]/div/div[5]/div[2]/div[1]/div[1]/div[2]/div/div/input')))\n",
    "        end_input.send_keys(str(end_year))\n",
    "    buttons = driver.find_elements(By.TAG_NAME, \"button\")\n",
    "    for button in buttons:\n",
    "        if \"ძებნა\" in button.text:\n",
    "            actions = ActionChains(driver)\n",
    "            actions.move_to_element(button).perform()\n",
    "            button.click()\n",
    "            break\n",
    "    sleep(5)\n",
    "    list_link = []\n",
    "    n = 1\n",
    "    next_button = True\n",
    "    while next_button:\n",
    "        if n > 1:\n",
    "            nxt_buttons = driver.find_elements(By.TAG_NAME, \"li\")\n",
    "            found = False\n",
    "            for button in nxt_buttons:\n",
    "                if str(n) == button.text:\n",
    "                    actions = ActionChains(driver)\n",
    "                    actions.move_to_element(button).perform()\n",
    "                    button.click()\n",
    "                    found = True\n",
    "                    break\n",
    "                \n",
    "            if not found:\n",
    "                next_button = False\n",
    "            sleep(3)\n",
    "        page_source = driver.page_source\n",
    "        soup = BeautifulSoup(page_source, 'html.parser')\n",
    "        links = soup.find_all('a', attrs={'class': 'w-full md:w-auto'})\n",
    "        for link in links:\n",
    "            href = link.get('href')\n",
    "            list_link.append('https://www.myauto.ge' + href)\n",
    "        n += 1\n",
    "    sleep(1) \n",
    "    if driver:\n",
    "        driver.quit()\n",
    "    print(list_link)"
   ]
  },
  {
   "cell_type": "code",
   "execution_count": 4,
   "id": "335f3af8",
   "metadata": {
    "ExecuteTime": {
     "end_time": "2024-05-09T17:51:38.303985Z",
     "start_time": "2024-05-09T17:50:21.990296Z"
    }
   },
   "outputs": [
    {
     "ename": "ElementClickInterceptedException",
     "evalue": "Message: element click intercepted: Element <div class=\"mt-[-1px] relative\">...</div> is not clickable at point (445, 549). Other element would receive the click: <div class=\"flex flex-col md:flex-row justify-between items-center px-[16px] py-[24px] md:p-[24px] gap-[12px] border border-[#ebeef6] bg-[#ffffff] rounded-[12px]\">...</div>\n  (Session info: chrome=124.0.6367.201)\nStacktrace:\n\tGetHandleVerifier [0x00007FF614961562+60802]\n\t(No symbol) [0x00007FF6148DAC62]\n\t(No symbol) [0x00007FF614797CE4]\n\t(No symbol) [0x00007FF6147EE877]\n\t(No symbol) [0x00007FF6147EC344]\n\t(No symbol) [0x00007FF6147E980A]\n\t(No symbol) [0x00007FF6147E89E2]\n\t(No symbol) [0x00007FF6147DAE8B]\n\t(No symbol) [0x00007FF61480AB7A]\n\t(No symbol) [0x00007FF6147DA7C6]\n\t(No symbol) [0x00007FF61480AD90]\n\t(No symbol) [0x00007FF61482A224]\n\t(No symbol) [0x00007FF61480A923]\n\t(No symbol) [0x00007FF6147D8FEC]\n\t(No symbol) [0x00007FF6147D9C21]\n\tGetHandleVerifier [0x00007FF614C641FD+3217949]\n\tGetHandleVerifier [0x00007FF614CA6197+3488183]\n\tGetHandleVerifier [0x00007FF614C9F11F+3459391]\n\tGetHandleVerifier [0x00007FF614A1B926+823622]\n\t(No symbol) [0x00007FF6148E5FFF]\n\t(No symbol) [0x00007FF6148E0F24]\n\t(No symbol) [0x00007FF6148E10B2]\n\t(No symbol) [0x00007FF6148D1904]\n\tBaseThreadInitThunk [0x00007FFB0C30257D+29]\n\tRtlUserThreadStart [0x00007FFB0E34AA48+40]\n",
     "output_type": "error",
     "traceback": [
      "\u001b[1;31m---------------------------------------------------------------------------\u001b[0m",
      "\u001b[1;31mElementClickInterceptedException\u001b[0m          Traceback (most recent call last)",
      "Cell \u001b[1;32mIn[4], line 1\u001b[0m\n\u001b[1;32m----> 1\u001b[0m get_links(url\u001b[38;5;241m=\u001b[39m\u001b[38;5;124m'\u001b[39m\u001b[38;5;124mhttps://www.myauto.ge/ka\u001b[39m\u001b[38;5;124m'\u001b[39m, manufacturer_name\u001b[38;5;241m=\u001b[39m\u001b[38;5;124m'\u001b[39m\u001b[38;5;124mAudi\u001b[39m\u001b[38;5;124m'\u001b[39m, start_year \u001b[38;5;241m=\u001b[39m \u001b[38;5;241m2000\u001b[39m, end_year \u001b[38;5;241m=\u001b[39m \u001b[38;5;241m2021\u001b[39m)\n",
      "Cell \u001b[1;32mIn[2], line 42\u001b[0m, in \u001b[0;36mget_links\u001b[1;34m(url, start_year, end_year, manufacturer_name, login, password)\u001b[0m\n\u001b[0;32m     40\u001b[0m years \u001b[38;5;241m=\u001b[39m wait\u001b[38;5;241m.\u001b[39muntil(EC\u001b[38;5;241m.\u001b[39melement_to_be_clickable((By\u001b[38;5;241m.\u001b[39mXPATH, \u001b[38;5;124m'\u001b[39m\u001b[38;5;124m/html/body/div[2]/div[1]/div[3]/div/div[1]/div[2]/div[2]/div/div[5]\u001b[39m\u001b[38;5;124m'\u001b[39m)))\n\u001b[0;32m     41\u001b[0m ActionChains(driver)\u001b[38;5;241m.\u001b[39mmove_to_element(years)\u001b[38;5;241m.\u001b[39mperform()\n\u001b[1;32m---> 42\u001b[0m years\u001b[38;5;241m.\u001b[39mclick()\n\u001b[0;32m     43\u001b[0m sleep(\u001b[38;5;241m3\u001b[39m)\n\u001b[0;32m     44\u001b[0m start_input \u001b[38;5;241m=\u001b[39m wait\u001b[38;5;241m.\u001b[39muntil(EC\u001b[38;5;241m.\u001b[39melement_to_be_clickable((By\u001b[38;5;241m.\u001b[39mXPATH, \u001b[38;5;124m'\u001b[39m\u001b[38;5;124m/html/body/div[2]/div[1]/div[3]/div/div[1]/div[2]/div[2]/div/div[5]/div[2]/div[1]/div[1]/div[1]/div/div/input\u001b[39m\u001b[38;5;124m'\u001b[39m)))\n",
      "File \u001b[1;32m~\\anaconda3\\Lib\\site-packages\\selenium\\webdriver\\remote\\webelement.py:94\u001b[0m, in \u001b[0;36mWebElement.click\u001b[1;34m(self)\u001b[0m\n\u001b[0;32m     92\u001b[0m \u001b[38;5;28;01mdef\u001b[39;00m \u001b[38;5;21mclick\u001b[39m(\u001b[38;5;28mself\u001b[39m) \u001b[38;5;241m-\u001b[39m\u001b[38;5;241m>\u001b[39m \u001b[38;5;28;01mNone\u001b[39;00m:\n\u001b[0;32m     93\u001b[0m \u001b[38;5;250m    \u001b[39m\u001b[38;5;124;03m\"\"\"Clicks the element.\"\"\"\u001b[39;00m\n\u001b[1;32m---> 94\u001b[0m     \u001b[38;5;28mself\u001b[39m\u001b[38;5;241m.\u001b[39m_execute(Command\u001b[38;5;241m.\u001b[39mCLICK_ELEMENT)\n",
      "File \u001b[1;32m~\\anaconda3\\Lib\\site-packages\\selenium\\webdriver\\remote\\webelement.py:395\u001b[0m, in \u001b[0;36mWebElement._execute\u001b[1;34m(self, command, params)\u001b[0m\n\u001b[0;32m    393\u001b[0m     params \u001b[38;5;241m=\u001b[39m {}\n\u001b[0;32m    394\u001b[0m params[\u001b[38;5;124m\"\u001b[39m\u001b[38;5;124mid\u001b[39m\u001b[38;5;124m\"\u001b[39m] \u001b[38;5;241m=\u001b[39m \u001b[38;5;28mself\u001b[39m\u001b[38;5;241m.\u001b[39m_id\n\u001b[1;32m--> 395\u001b[0m \u001b[38;5;28;01mreturn\u001b[39;00m \u001b[38;5;28mself\u001b[39m\u001b[38;5;241m.\u001b[39m_parent\u001b[38;5;241m.\u001b[39mexecute(command, params)\n",
      "File \u001b[1;32m~\\anaconda3\\Lib\\site-packages\\selenium\\webdriver\\remote\\webdriver.py:347\u001b[0m, in \u001b[0;36mWebDriver.execute\u001b[1;34m(self, driver_command, params)\u001b[0m\n\u001b[0;32m    345\u001b[0m response \u001b[38;5;241m=\u001b[39m \u001b[38;5;28mself\u001b[39m\u001b[38;5;241m.\u001b[39mcommand_executor\u001b[38;5;241m.\u001b[39mexecute(driver_command, params)\n\u001b[0;32m    346\u001b[0m \u001b[38;5;28;01mif\u001b[39;00m response:\n\u001b[1;32m--> 347\u001b[0m     \u001b[38;5;28mself\u001b[39m\u001b[38;5;241m.\u001b[39merror_handler\u001b[38;5;241m.\u001b[39mcheck_response(response)\n\u001b[0;32m    348\u001b[0m     response[\u001b[38;5;124m\"\u001b[39m\u001b[38;5;124mvalue\u001b[39m\u001b[38;5;124m\"\u001b[39m] \u001b[38;5;241m=\u001b[39m \u001b[38;5;28mself\u001b[39m\u001b[38;5;241m.\u001b[39m_unwrap_value(response\u001b[38;5;241m.\u001b[39mget(\u001b[38;5;124m\"\u001b[39m\u001b[38;5;124mvalue\u001b[39m\u001b[38;5;124m\"\u001b[39m, \u001b[38;5;28;01mNone\u001b[39;00m))\n\u001b[0;32m    349\u001b[0m     \u001b[38;5;28;01mreturn\u001b[39;00m response\n",
      "File \u001b[1;32m~\\anaconda3\\Lib\\site-packages\\selenium\\webdriver\\remote\\errorhandler.py:229\u001b[0m, in \u001b[0;36mErrorHandler.check_response\u001b[1;34m(self, response)\u001b[0m\n\u001b[0;32m    227\u001b[0m         alert_text \u001b[38;5;241m=\u001b[39m value[\u001b[38;5;124m\"\u001b[39m\u001b[38;5;124malert\u001b[39m\u001b[38;5;124m\"\u001b[39m]\u001b[38;5;241m.\u001b[39mget(\u001b[38;5;124m\"\u001b[39m\u001b[38;5;124mtext\u001b[39m\u001b[38;5;124m\"\u001b[39m)\n\u001b[0;32m    228\u001b[0m     \u001b[38;5;28;01mraise\u001b[39;00m exception_class(message, screen, stacktrace, alert_text)  \u001b[38;5;66;03m# type: ignore[call-arg]  # mypy is not smart enough here\u001b[39;00m\n\u001b[1;32m--> 229\u001b[0m \u001b[38;5;28;01mraise\u001b[39;00m exception_class(message, screen, stacktrace)\n",
      "\u001b[1;31mElementClickInterceptedException\u001b[0m: Message: element click intercepted: Element <div class=\"mt-[-1px] relative\">...</div> is not clickable at point (445, 549). Other element would receive the click: <div class=\"flex flex-col md:flex-row justify-between items-center px-[16px] py-[24px] md:p-[24px] gap-[12px] border border-[#ebeef6] bg-[#ffffff] rounded-[12px]\">...</div>\n  (Session info: chrome=124.0.6367.201)\nStacktrace:\n\tGetHandleVerifier [0x00007FF614961562+60802]\n\t(No symbol) [0x00007FF6148DAC62]\n\t(No symbol) [0x00007FF614797CE4]\n\t(No symbol) [0x00007FF6147EE877]\n\t(No symbol) [0x00007FF6147EC344]\n\t(No symbol) [0x00007FF6147E980A]\n\t(No symbol) [0x00007FF6147E89E2]\n\t(No symbol) [0x00007FF6147DAE8B]\n\t(No symbol) [0x00007FF61480AB7A]\n\t(No symbol) [0x00007FF6147DA7C6]\n\t(No symbol) [0x00007FF61480AD90]\n\t(No symbol) [0x00007FF61482A224]\n\t(No symbol) [0x00007FF61480A923]\n\t(No symbol) [0x00007FF6147D8FEC]\n\t(No symbol) [0x00007FF6147D9C21]\n\tGetHandleVerifier [0x00007FF614C641FD+3217949]\n\tGetHandleVerifier [0x00007FF614CA6197+3488183]\n\tGetHandleVerifier [0x00007FF614C9F11F+3459391]\n\tGetHandleVerifier [0x00007FF614A1B926+823622]\n\t(No symbol) [0x00007FF6148E5FFF]\n\t(No symbol) [0x00007FF6148E0F24]\n\t(No symbol) [0x00007FF6148E10B2]\n\t(No symbol) [0x00007FF6148D1904]\n\tBaseThreadInitThunk [0x00007FFB0C30257D+29]\n\tRtlUserThreadStart [0x00007FFB0E34AA48+40]\n"
     ]
    }
   ],
   "source": [
    "get_links(url='https://www.myauto.ge/ka', manufacturer_name='Audi', start_year = 2000, end_year = 2021)"
   ]
  },
  {
   "cell_type": "code",
   "execution_count": null,
   "id": "3fe03159",
   "metadata": {},
   "outputs": [],
   "source": []
  },
  {
   "cell_type": "code",
   "execution_count": null,
   "id": "6b68c00a",
   "metadata": {},
   "outputs": [],
   "source": []
  }
 ],
 "metadata": {
  "kernelspec": {
   "display_name": "Python 3 (ipykernel)",
   "language": "python",
   "name": "python3"
  },
  "language_info": {
   "codemirror_mode": {
    "name": "ipython",
    "version": 3
   },
   "file_extension": ".py",
   "mimetype": "text/x-python",
   "name": "python",
   "nbconvert_exporter": "python",
   "pygments_lexer": "ipython3",
   "version": "3.11.7"
  },
  "widgets": {
   "application/vnd.jupyter.widget-state+json": {
    "state": {},
    "version_major": 2,
    "version_minor": 0
   }
  }
 },
 "nbformat": 4,
 "nbformat_minor": 5
}
